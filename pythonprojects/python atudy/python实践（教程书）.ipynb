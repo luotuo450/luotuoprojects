{
 "cells": [
  {
   "cell_type": "code",
   "execution_count": 1,
   "metadata": {},
   "outputs": [
    {
     "name": "stdout",
     "output_type": "stream",
     "text": [
      "做有心人 干困难事 立大格局\n"
     ]
    }
   ],
   "source": [
    "#1.1\n",
    "print(\"做有心人 干困难事 立大格局\")"
   ]
  },
  {
   "cell_type": "code",
   "execution_count": 5,
   "metadata": {},
   "outputs": [
    {
     "name": "stdout",
     "output_type": "stream",
     "text": [
      "1024(程序员之日)寓意：\n",
      "低调、踏实、核心\n",
      "1024MB=1GB,谐音一级棒\n"
     ]
    }
   ],
   "source": [
    "#1.2\n",
    "print(\"1024(程序员之日)寓意：\\n低调、踏实、核心\\n1024MB=1GB,谐音一级棒\")\n",
    "#\\n表示换行"
   ]
  },
  {
   "cell_type": "code",
   "execution_count": 10,
   "metadata": {},
   "outputs": [
    {
     "name": "stdout",
     "output_type": "stream",
     "text": [
      "转换为二进制为: 1010\n",
      "转换为八进制为: 12\n",
      "转换为十六进制为: a\n"
     ]
    }
   ],
   "source": [
    "a=int(input(\"请输入你想要转换的十进制数字:\"))\n",
    "two_number=bin(a)\n",
    "eight_number=oct(a)\n",
    "sixteen_number=hex(a)\n",
    "print(\"转换为二进制为:\",two_number[2:])\n",
    "print(\"转换为八进制为:\",eight_number[2:])\n",
    "print(\"转换为十六进制为:\",sixteen_number[2:])"
   ]
  }
 ],
 "metadata": {
  "kernelspec": {
   "display_name": "base",
   "language": "python",
   "name": "python3"
  },
  "language_info": {
   "codemirror_mode": {
    "name": "ipython",
    "version": 3
   },
   "file_extension": ".py",
   "mimetype": "text/x-python",
   "name": "python",
   "nbconvert_exporter": "python",
   "pygments_lexer": "ipython3",
   "version": "3.12.4"
  }
 },
 "nbformat": 4,
 "nbformat_minor": 2
}
