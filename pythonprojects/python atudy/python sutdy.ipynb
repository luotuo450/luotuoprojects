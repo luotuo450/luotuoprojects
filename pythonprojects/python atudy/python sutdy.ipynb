{
 "cells": [
  {
   "cell_type": "code",
   "execution_count": 1,
   "metadata": {
    "jupyter": {
     "is_executing": true
    }
   },
   "outputs": [
    {
     "name": "stdout",
     "output_type": "stream",
     "text": [
      "Hello, world!\n",
      "Hello, world!\n",
      "Hello, world!\n"
     ]
    }
   ],
   "source": [
    "# 格式化输出\n",
    "# 1.使用%占位符\n",
    "# %s表示字符串，%d表示整数，%f表示浮点数,%xf中的x表示保留的小数位数\n",
    "print(\"%s, %s!\" % (\"Hello\", \"world\"))\n",
    "# 2.使用format()方法\n",
    "print(\"Hello, {}!\".format(\"world\"))\n",
    "# 3.使用f-string\n",
    "name = \"world\"\n",
    "print(f\"Hello, {name}!\")"
   ]
  },
  {
   "cell_type": "code",
   "execution_count": 2,
   "metadata": {},
   "outputs": [
    {
     "data": {
      "text/plain": [
       "'\\n差点忘了\\n还有多行注释\\n'"
      ]
     },
     "execution_count": 2,
     "metadata": {},
     "output_type": "execute_result"
    }
   ],
   "source": [
    "\"\"\"\n",
    "    差点忘了\n",
    "    还有多行注释\n",
    "\"\"\"\n",
    "'''\n",
    "    多行注释\n",
    "    既可以三个双引号\n",
    "    也可以三个单引号\n",
    "'''\n",
    "# python官方建议单行注释时井号后面加一个空格（显得高级）\n"
   ]
  }
 ],
 "metadata": {
  "kernelspec": {
   "display_name": "base",
   "language": "python",
   "name": "python3"
  },
  "language_info": {
   "codemirror_mode": {
    "name": "ipython",
    "version": 3
   },
   "file_extension": ".py",
   "mimetype": "text/x-python",
   "name": "python",
   "nbconvert_exporter": "python",
   "pygments_lexer": "ipython3",
   "version": "3.12.4"
  }
 },
 "nbformat": 4,
 "nbformat_minor": 2
}
