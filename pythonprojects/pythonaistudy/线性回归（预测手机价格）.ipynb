{
 "cells": [
  {
   "cell_type": "code",
   "execution_count": 2,
   "metadata": {},
   "outputs": [
    {
     "data": {
      "text/html": [
       "<div>\n",
       "<style scoped>\n",
       "    .dataframe tbody tr th:only-of-type {\n",
       "        vertical-align: middle;\n",
       "    }\n",
       "\n",
       "    .dataframe tbody tr th {\n",
       "        vertical-align: top;\n",
       "    }\n",
       "\n",
       "    .dataframe thead th {\n",
       "        text-align: right;\n",
       "    }\n",
       "</style>\n",
       "<table border=\"1\" class=\"dataframe\">\n",
       "  <thead>\n",
       "    <tr style=\"text-align: right;\">\n",
       "      <th></th>\n",
       "      <th>电池</th>\n",
       "      <th>芯片</th>\n",
       "      <th>屏幕手动亮度</th>\n",
       "      <th>屏幕激发亮度</th>\n",
       "      <th>应用打开时间</th>\n",
       "      <th>保活</th>\n",
       "      <th>指纹</th>\n",
       "      <th>面容</th>\n",
       "      <th>充电</th>\n",
       "      <th>续航</th>\n",
       "      <th>原帧率</th>\n",
       "      <th>原功耗</th>\n",
       "      <th>原温度</th>\n",
       "      <th>星帧率</th>\n",
       "      <th>星功耗</th>\n",
       "      <th>星温度</th>\n",
       "      <th>内存</th>\n",
       "      <th>存储</th>\n",
       "      <th>安兔兔</th>\n",
       "      <th>价格</th>\n",
       "    </tr>\n",
       "  </thead>\n",
       "  <tbody>\n",
       "    <tr>\n",
       "      <th>0</th>\n",
       "      <td>5700</td>\n",
       "      <td>92</td>\n",
       "      <td>602</td>\n",
       "      <td>1623</td>\n",
       "      <td>188</td>\n",
       "      <td>25</td>\n",
       "      <td>1</td>\n",
       "      <td>2</td>\n",
       "      <td>57</td>\n",
       "      <td>5.33</td>\n",
       "      <td>50.9</td>\n",
       "      <td>5.6</td>\n",
       "      <td>48.4</td>\n",
       "      <td>30.8</td>\n",
       "      <td>6.1</td>\n",
       "      <td>50.4</td>\n",
       "      <td>16</td>\n",
       "      <td>1024</td>\n",
       "      <td>1167477</td>\n",
       "      <td>8499</td>\n",
       "    </tr>\n",
       "    <tr>\n",
       "      <th>1</th>\n",
       "      <td>5850</td>\n",
       "      <td>219</td>\n",
       "      <td>806</td>\n",
       "      <td>1570</td>\n",
       "      <td>177</td>\n",
       "      <td>30</td>\n",
       "      <td>3</td>\n",
       "      <td>2</td>\n",
       "      <td>57</td>\n",
       "      <td>7.58</td>\n",
       "      <td>59.7</td>\n",
       "      <td>4.5</td>\n",
       "      <td>42.5</td>\n",
       "      <td>59.3</td>\n",
       "      <td>6.1</td>\n",
       "      <td>47.6</td>\n",
       "      <td>16</td>\n",
       "      <td>1024</td>\n",
       "      <td>2789925</td>\n",
       "      <td>5699</td>\n",
       "    </tr>\n",
       "  </tbody>\n",
       "</table>\n",
       "</div>"
      ],
      "text/plain": [
       "     电池   芯片  屏幕手动亮度  屏幕激发亮度  应用打开时间  保活  指纹  面容  充电    续航   原帧率  原功耗   原温度  \\\n",
       "0  5700   92     602    1623     188  25   1   2  57  5.33  50.9  5.6  48.4   \n",
       "1  5850  219     806    1570     177  30   3   2  57  7.58  59.7  4.5  42.5   \n",
       "\n",
       "    星帧率  星功耗   星温度  内存    存储      安兔兔    价格  \n",
       "0  30.8  6.1  50.4  16  1024  1167477  8499  \n",
       "1  59.3  6.1  47.6  16  1024  2789925  5699  "
      ]
     },
     "execution_count": 2,
     "metadata": {},
     "output_type": "execute_result"
    }
   ],
   "source": [
    "import pandas as pd\n",
    "import numpy as np\n",
    "data = pd.read_csv('phone.csv')\n",
    "data.head()"
   ]
  },
  {
   "cell_type": "code",
   "execution_count": 20,
   "metadata": {},
   "outputs": [
    {
     "data": {
      "image/png": "[encoded data removed]",
      "text/plain": [
       "<Figure size 1000x1000 with 2 Axes>"
      ]
     },
     "metadata": {},
     "output_type": "display_data"
    }
   ],
   "source": [
    "from matplotlib import pyplot as plt\n",
    "import matplotlib as mpl\n",
    "mpl.rcParams['font.family'] = 'HarmonyOS Sans SC'\n",
    "fig=plt.figure(figsize=(10,10))\n",
    "fig1=plt.subplot(221)\n",
    "plt.scatter(data.loc[:,'电池'],data.loc[:,'价格'])\n",
    "plt.title('电池')\n",
    "plt.xlabel('电池')\n",
    "plt.ylabel('价格')\n",
    "fig2=plt.subplot(222)\n",
    "plt.scatter(data.loc[:,'芯片'],data.loc[:,'价格'])\n",
    "plt.title('芯片')\n",
    "plt.xlabel('芯片')\n",
    "plt.ylabel('价格')\n",
    "plt.show()"
   ]
  },
  {
   "cell_type": "code",
   "execution_count": null,
   "metadata": {},
   "outputs": [],
   "source": []
  }
 ],
 "metadata": {
  "kernelspec": {
   "display_name": "base",
   "language": "python",
   "name": "python3"
  },
  "language_info": {
   "codemirror_mode": {
    "name": "ipython",
    "version": 3
   },
   "file_extension": ".py",
   "mimetype": "text/x-python",
   "name": "python",
   "nbconvert_exporter": "python",
   "pygments_lexer": "ipython3",
   "version": "3.12.4"
  }
 },
 "nbformat": 4,
 "nbformat_minor": 2
}
